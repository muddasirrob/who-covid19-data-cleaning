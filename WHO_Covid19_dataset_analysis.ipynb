{
 "cells": [
  {
   "cell_type": "markdown",
   "id": "bbd6c19e-af5a-454b-833f-23fcc3fcbe0f",
   "metadata": {},
   "source": [
    "**Data Cleaning for a Real-world Dataset**"
   ]
  },
  {
   "cell_type": "code",
   "execution_count": 24,
   "id": "b2948308-14cd-45e7-9640-91b98b690705",
   "metadata": {},
   "outputs": [
    {
     "name": "stdout",
     "output_type": "stream",
     "text": [
      "  Country/Region      Continent   Population  TotalCases  NewCases  \\\n",
      "0         Mexico  North America  129066160.0      462690    6590.0   \n",
      "1        Bolivia  South America   11688459.0       86423    1282.0   \n",
      "2       S. Korea           Asia   51273732.0       14519      20.0   \n",
      "\n",
      "   TotalDeaths  NewDeaths  TotalRecovered  NewRecovered  ActiveCases  \\\n",
      "0      50517.0      819.0        308848.0        4140.0     103325.0   \n",
      "1       3465.0       80.0         27373.0         936.0      55585.0   \n",
      "2        303.0        1.0         13543.0          42.0        673.0   \n",
      "\n",
      "   Serious,Critical  Tot Cases/1M pop  Deaths/1M pop  TotalTests  \\\n",
      "0            3987.0            3585.0          391.0   1056915.0   \n",
      "1              71.0            7394.0          296.0    183583.0   \n",
      "2              18.0             283.0            6.0   1613652.0   \n",
      "\n",
      "   Tests/1M pop      WHO Region  \n",
      "0        8189.0        Americas  \n",
      "1       15706.0        Americas  \n",
      "2       31471.0  WesternPacific  \n",
      "Index(['Country/Region', 'Continent', 'Population', 'TotalCases', 'NewCases',\n",
      "       'TotalDeaths', 'NewDeaths', 'TotalRecovered', 'NewRecovered',\n",
      "       'ActiveCases', 'Serious,Critical', 'Tot Cases/1M pop', 'Deaths/1M pop',\n",
      "       'TotalTests', 'Tests/1M pop', 'WHO Region'],\n",
      "      dtype='object')\n"
     ]
    }
   ],
   "source": [
    "import pandas as pd\n",
    "df = pd.read_csv('cleaned_worldometer_data.csv', quotechar='\"', engine='python')\n",
    "\n",
    "# Preview data\n",
    "print(df.head())\n",
    "print(df.columns)\n"
   ]
  },
  {
   "cell_type": "markdown",
   "id": "1e0091ab-395e-462a-9016-7880e769340b",
   "metadata": {},
   "source": [
    "**Explore and Understand the data**"
   ]
  },
  {
   "cell_type": "code",
   "execution_count": 14,
   "id": "d87024fd-b3cb-4ccf-9949-4b5d6d12063b",
   "metadata": {},
   "outputs": [
    {
     "name": "stdout",
     "output_type": "stream",
     "text": [
      "<class 'pandas.core.frame.DataFrame'>\n",
      "RangeIndex: 209 entries, 0 to 208\n",
      "Data columns (total 16 columns):\n",
      " #   Column            Non-Null Count  Dtype  \n",
      "---  ------            --------------  -----  \n",
      " 0   Country/Region    209 non-null    object \n",
      " 1   Continent         208 non-null    object \n",
      " 2   Population        208 non-null    float64\n",
      " 3   TotalCases        209 non-null    int64  \n",
      " 4   NewCases          4 non-null      float64\n",
      " 5   TotalDeaths       188 non-null    float64\n",
      " 6   NewDeaths         3 non-null      float64\n",
      " 7   TotalRecovered    205 non-null    float64\n",
      " 8   NewRecovered      3 non-null      float64\n",
      " 9   ActiveCases       205 non-null    float64\n",
      " 10  Serious,Critical  122 non-null    float64\n",
      " 11  Tot Cases/1M pop  208 non-null    float64\n",
      " 12  Deaths/1M pop     187 non-null    float64\n",
      " 13  TotalTests        191 non-null    float64\n",
      " 14  Tests/1M pop      191 non-null    float64\n",
      " 15  WHO Region        184 non-null    object \n",
      "dtypes: float64(12), int64(1), object(3)\n",
      "memory usage: 26.3+ KB\n",
      "None\n",
      "         Population    TotalCases     NewCases    TotalDeaths   NewDeaths  \\\n",
      "count  2.080000e+02  2.090000e+02     4.000000     188.000000    3.000000   \n",
      "mean   3.041549e+07  9.171850e+04  1980.500000    3792.590426  300.000000   \n",
      "std    1.047661e+08  4.325867e+05  3129.611424   15487.184877  451.199512   \n",
      "min    8.010000e+02  1.000000e+01    20.000000       1.000000    1.000000   \n",
      "25%    9.663140e+05  7.120000e+02    27.500000      22.000000   40.500000   \n",
      "50%    7.041972e+06  4.491000e+03   656.000000     113.000000   80.000000   \n",
      "75%    2.575614e+07  3.689600e+04  2609.000000     786.000000  449.500000   \n",
      "max    1.381345e+09  5.032179e+06  6590.000000  162804.000000  819.000000   \n",
      "\n",
      "       TotalRecovered  NewRecovered   ActiveCases  Serious,Critical  \\\n",
      "count    2.050000e+02      3.000000  2.050000e+02        122.000000   \n",
      "mean     5.887898e+04   1706.000000  2.766433e+04        534.393443   \n",
      "std      2.566984e+05   2154.779803  1.746327e+05       2047.518613   \n",
      "min      7.000000e+00     42.000000  0.000000e+00          1.000000   \n",
      "25%      3.340000e+02    489.000000  8.600000e+01          3.250000   \n",
      "50%      2.178000e+03    936.000000  8.990000e+02         27.500000   \n",
      "75%      2.055300e+04   2538.000000  7.124000e+03        160.250000   \n",
      "max      2.576668e+06   4140.000000  2.292707e+06      18296.000000   \n",
      "\n",
      "       Tot Cases/1M pop  Deaths/1M pop    TotalTests   Tests/1M pop  \n",
      "count        208.000000     187.000000  1.910000e+02     191.000000  \n",
      "mean        3196.024038      98.681176  1.402405e+06   83959.366492  \n",
      "std         5191.986457     174.956862  5.553367e+06  152730.591240  \n",
      "min            3.000000       0.080000  6.100000e+01       4.000000  \n",
      "25%          282.000000       6.000000  2.575200e+04    8956.500000  \n",
      "50%         1015.000000      29.000000  1.357020e+05   32585.000000  \n",
      "75%         3841.750000      98.000000  7.576960e+05   92154.500000  \n",
      "max        39922.000000    1238.000000  6.313960e+07  995282.000000  \n",
      "Index(['Country/Region', 'Continent', 'Population', 'TotalCases', 'NewCases',\n",
      "       'TotalDeaths', 'NewDeaths', 'TotalRecovered', 'NewRecovered',\n",
      "       'ActiveCases', 'Serious,Critical', 'Tot Cases/1M pop', 'Deaths/1M pop',\n",
      "       'TotalTests', 'Tests/1M pop', 'WHO Region'],\n",
      "      dtype='object')\n"
     ]
    }
   ],
   "source": [
    "print(df.info())         \n",
    "print(df.describe())    \n",
    "print(df.columns)        "
   ]
  },
  {
   "cell_type": "markdown",
   "id": "11ef8e5b-e910-4bd2-ae3e-eca718b8ad6b",
   "metadata": {},
   "source": [
    "**Handling the Missing Values**"
   ]
  },
  {
   "cell_type": "code",
   "execution_count": 15,
   "id": "bb2b3ac2-51be-408c-bc3c-b3b5c600812e",
   "metadata": {},
   "outputs": [
    {
     "name": "stdout",
     "output_type": "stream",
     "text": [
      "Country/Region        0\n",
      "Continent             1\n",
      "Population            1\n",
      "TotalCases            0\n",
      "NewCases            205\n",
      "TotalDeaths          21\n",
      "NewDeaths           206\n",
      "TotalRecovered        4\n",
      "NewRecovered        206\n",
      "ActiveCases           4\n",
      "Serious,Critical     87\n",
      "Tot Cases/1M pop      1\n",
      "Deaths/1M pop        22\n",
      "TotalTests           18\n",
      "Tests/1M pop         18\n",
      "WHO Region           25\n",
      "dtype: int64\n"
     ]
    }
   ],
   "source": [
    "print(df.isnull().sum())"
   ]
  },
  {
   "cell_type": "markdown",
   "id": "fa959b7d-c163-47f6-8786-651e564599e0",
   "metadata": {},
   "source": [
    "**Imputing Missing Values**"
   ]
  },
  {
   "cell_type": "code",
   "execution_count": 18,
   "id": "dcc631a0-5f10-4da0-8c54-1c9d7bd590b3",
   "metadata": {},
   "outputs": [],
   "source": [
    "df = df.dropna()"
   ]
  },
  {
   "cell_type": "markdown",
   "id": "38a1fb24-4cea-49c9-9df9-555d633f1f9b",
   "metadata": {},
   "source": [
    "**Removing the Duplicates**"
   ]
  },
  {
   "cell_type": "code",
   "execution_count": 19,
   "id": "bbfe40b5-adc6-495c-9c13-62fb68b2840d",
   "metadata": {},
   "outputs": [],
   "source": [
    "df = df.drop_duplicates()\n"
   ]
  },
  {
   "cell_type": "markdown",
   "id": "3aa7645b-5435-4a6e-b3d5-0168158c78b7",
   "metadata": {},
   "source": [
    "**Fix Inconsistencies in Categorical Data**"
   ]
  },
  {
   "cell_type": "code",
   "execution_count": 21,
   "id": "0ef5b074-5c6c-476f-b277-37a7c550cda1",
   "metadata": {},
   "outputs": [
    {
     "name": "stdout",
     "output_type": "stream",
     "text": [
      "['Mexico' 'Bolivia' 'S. Korea']\n"
     ]
    }
   ],
   "source": [
    "df['Country/Region'] = df['Country/Region'].str.strip().str.title()\n",
    "print(df['Country/Region'].unique())\n"
   ]
  },
  {
   "cell_type": "markdown",
   "id": "6605a596-f3db-4a21-b5f0-61dbc86b1bd2",
   "metadata": {},
   "source": [
    "**Convert Data Types**"
   ]
  },
  {
   "cell_type": "code",
   "execution_count": 22,
   "id": "b179b5d6-f18d-4d26-8ed4-d41c39dd7aab",
   "metadata": {},
   "outputs": [],
   "source": [
    "cols_to_clean = ['TotalCases', 'TotalDeaths', 'TotalRecovered', 'ActiveCases', 'Population']\n",
    "for col in cols_to_clean:\n",
    "    df[col] = df[col].astype(str).str.replace(',', '').replace('nan', '0')\n",
    "    df[col] = pd.to_numeric(df[col], errors='coerce')\n",
    "\n"
   ]
  },
  {
   "cell_type": "markdown",
   "id": "eaedb123-43c6-417d-b3b4-1149d99359b7",
   "metadata": {},
   "source": [
    "**Cleaned Data**"
   ]
  },
  {
   "cell_type": "code",
   "execution_count": 23,
   "id": "0e899859-5607-477a-8680-2d2cb1f262f2",
   "metadata": {},
   "outputs": [],
   "source": [
    "df.to_csv('cleaned_worldometer_data.csv', index=False)\n"
   ]
  },
  {
   "cell_type": "markdown",
   "id": "a3fa58d5-ff82-4857-adc8-af5eaf6ab958",
   "metadata": {},
   "source": [
    "**Rename Problematic Column**"
   ]
  },
  {
   "cell_type": "code",
   "execution_count": 26,
   "id": "bfdfa8be-ca3d-4651-8a8f-26a88046af61",
   "metadata": {},
   "outputs": [],
   "source": [
    "df.rename(columns={'\"Serious,Critical\"': 'Serious_Critical'}, inplace=True)\n"
   ]
  },
  {
   "cell_type": "markdown",
   "id": "b4bf8efd-209a-425e-8c28-a956399849ce",
   "metadata": {},
   "source": [
    "**Continue Cleaning**"
   ]
  },
  {
   "cell_type": "code",
   "execution_count": 28,
   "id": "ec09d814-cd9b-4377-a49c-6b6885b729ac",
   "metadata": {},
   "outputs": [
    {
     "name": "stdout",
     "output_type": "stream",
     "text": [
      "Country/Region      0\n",
      "Continent           0\n",
      "Population          0\n",
      "TotalCases          0\n",
      "NewCases            0\n",
      "TotalDeaths         0\n",
      "NewDeaths           0\n",
      "TotalRecovered      0\n",
      "NewRecovered        0\n",
      "ActiveCases         0\n",
      "Serious,Critical    0\n",
      "Tot Cases/1M pop    0\n",
      "Deaths/1M pop       0\n",
      "TotalTests          0\n",
      "Tests/1M pop        0\n",
      "WHO Region          0\n",
      "dtype: int64\n"
     ]
    }
   ],
   "source": [
    "print(df.isnull().sum())\n"
   ]
  },
  {
   "cell_type": "code",
   "execution_count": 29,
   "id": "03389f70-2ae4-400f-beaa-ef5ad59b79d0",
   "metadata": {},
   "outputs": [],
   "source": [
    "df.fillna(0, inplace=True)  \n"
   ]
  },
  {
   "cell_type": "code",
   "execution_count": 30,
   "id": "fa923749-6008-4715-adfd-d0e60dc4aa53",
   "metadata": {},
   "outputs": [],
   "source": [
    "df['TotalCases'] = pd.to_numeric(df['TotalCases'], errors='coerce')\n"
   ]
  },
  {
   "cell_type": "code",
   "execution_count": 32,
   "id": "f744dec9-fb17-4790-aa8a-b40d45dd6cad",
   "metadata": {},
   "outputs": [],
   "source": [
    "df.to_csv('final_cleaned_worldometer_data.csv', index=False)\n"
   ]
  }
 ],
 "metadata": {
  "kernelspec": {
   "display_name": "Python 3 (ipykernel)",
   "language": "python",
   "name": "python3"
  },
  "language_info": {
   "codemirror_mode": {
    "name": "ipython",
    "version": 3
   },
   "file_extension": ".py",
   "mimetype": "text/x-python",
   "name": "python",
   "nbconvert_exporter": "python",
   "pygments_lexer": "ipython3",
   "version": "3.12.7"
  }
 },
 "nbformat": 4,
 "nbformat_minor": 5
}
